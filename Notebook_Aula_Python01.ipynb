{
  "nbformat": 4,
  "nbformat_minor": 0,
  "metadata": {
    "colab": {
      "name": "Notebook_Aula_Python01.ipynb",
      "provenance": [],
      "collapsed_sections": [],
      "authorship_tag": "ABX9TyO/QpC/a/s3jyQan1WbULqX",
      "include_colab_link": true
    },
    "kernelspec": {
      "name": "python3",
      "display_name": "Python 3"
    }
  },
  "cells": [
    {
      "cell_type": "markdown",
      "metadata": {
        "id": "view-in-github",
        "colab_type": "text"
      },
      "source": [
        "<a href=\"https://colab.research.google.com/github/reinaldosantana89/demo/blob/main/Notebook_Aula_Python01.ipynb\" target=\"_parent\"><img src=\"https://colab.research.google.com/assets/colab-badge.svg\" alt=\"Open In Colab\"/></a>"
      ]
    },
    {
      "cell_type": "code",
      "metadata": {
        "id": "BjWeA3rCxh_s"
      },
      "source": [
        "#comentario"
      ],
      "execution_count": null,
      "outputs": []
    },
    {
      "cell_type": "code",
      "metadata": {
        "colab": {
          "base_uri": "https://localhost:8080/"
        },
        "id": "51AyLeLcxsQB",
        "outputId": "27e4d5cd-ce15-4b24-dbd3-212268676b71"
      },
      "source": [
        "print ('Hello world')"
      ],
      "execution_count": null,
      "outputs": [
        {
          "output_type": "stream",
          "text": [
            "Hello world\n"
          ],
          "name": "stdout"
        }
      ]
    },
    {
      "cell_type": "code",
      "metadata": {
        "colab": {
          "base_uri": "https://localhost:8080/"
        },
        "id": "9Y68U2-2x9yK",
        "outputId": "0bf1eedc-560b-464b-c623-eca16ee5fd51"
      },
      "source": [
        "3.2+6.6"
      ],
      "execution_count": null,
      "outputs": [
        {
          "output_type": "execute_result",
          "data": {
            "text/plain": [
              "9.8"
            ]
          },
          "metadata": {
            "tags": []
          },
          "execution_count": 3
        }
      ]
    },
    {
      "cell_type": "markdown",
      "metadata": {
        "id": "MvAmpxAexpG9"
      },
      "source": [
        ""
      ]
    },
    {
      "cell_type": "code",
      "metadata": {
        "colab": {
          "base_uri": "https://localhost:8080/"
        },
        "id": "P3MkvyeKyCXu",
        "outputId": "10c24418-a12a-4c1c-ade1-b13f8f7be67f"
      },
      "source": [
        "8.8 / 2"
      ],
      "execution_count": null,
      "outputs": [
        {
          "output_type": "execute_result",
          "data": {
            "text/plain": [
              "4.4"
            ]
          },
          "metadata": {
            "tags": []
          },
          "execution_count": 4
        }
      ]
    },
    {
      "cell_type": "code",
      "metadata": {
        "colab": {
          "base_uri": "https://localhost:8080/"
        },
        "id": "y-K2m0fiyFzE",
        "outputId": "fc03a1ee-94f6-480b-dfc0-042e380bc49e"
      },
      "source": [
        "10.2*2.5"
      ],
      "execution_count": null,
      "outputs": [
        {
          "output_type": "execute_result",
          "data": {
            "text/plain": [
              "25.5"
            ]
          },
          "metadata": {
            "tags": []
          },
          "execution_count": 5
        }
      ]
    },
    {
      "cell_type": "markdown",
      "metadata": {
        "id": "SiK2Yb6zyN_e"
      },
      "source": [
        "### **Funções no Python**"
      ]
    },
    {
      "cell_type": "code",
      "metadata": {
        "colab": {
          "base_uri": "https://localhost:8080/"
        },
        "id": "-36XIm-uyUBJ",
        "outputId": "acf6455e-64ae-41bd-c5ad-266a9cb50133"
      },
      "source": [
        "type(5)"
      ],
      "execution_count": null,
      "outputs": [
        {
          "output_type": "execute_result",
          "data": {
            "text/plain": [
              "int"
            ]
          },
          "metadata": {
            "tags": []
          },
          "execution_count": 6
        }
      ]
    },
    {
      "cell_type": "code",
      "metadata": {
        "colab": {
          "base_uri": "https://localhost:8080/"
        },
        "id": "vpRsrz3ByXQy",
        "outputId": "9d47cfd9-7951-493e-ddd8-03f9761bd461"
      },
      "source": [
        "type(6.6)"
      ],
      "execution_count": null,
      "outputs": [
        {
          "output_type": "execute_result",
          "data": {
            "text/plain": [
              "float"
            ]
          },
          "metadata": {
            "tags": []
          },
          "execution_count": 7
        }
      ]
    },
    {
      "cell_type": "code",
      "metadata": {
        "colab": {
          "base_uri": "https://localhost:8080/"
        },
        "id": "2KjXK1-myc1I",
        "outputId": "7531736f-da60-4084-eacf-76d0e462be28"
      },
      "source": [
        "type('king')"
      ],
      "execution_count": null,
      "outputs": [
        {
          "output_type": "execute_result",
          "data": {
            "text/plain": [
              "str"
            ]
          },
          "metadata": {
            "tags": []
          },
          "execution_count": 8
        }
      ]
    },
    {
      "cell_type": "code",
      "metadata": {
        "id": "V44iq12lyfx0"
      },
      "source": [
        ""
      ],
      "execution_count": null,
      "outputs": []
    },
    {
      "cell_type": "markdown",
      "metadata": {
        "id": "PxKdHs2JyhUi"
      },
      "source": [
        "### **Funções de Conversão**"
      ]
    },
    {
      "cell_type": "code",
      "metadata": {
        "colab": {
          "base_uri": "https://localhost:8080/"
        },
        "id": "Qe6FDrTnylIx",
        "outputId": "7b1a3270-bb0e-43ec-dc30-1f785d41e142"
      },
      "source": [
        "int(6)"
      ],
      "execution_count": null,
      "outputs": [
        {
          "output_type": "execute_result",
          "data": {
            "text/plain": [
              "6"
            ]
          },
          "metadata": {
            "tags": []
          },
          "execution_count": 9
        }
      ]
    },
    {
      "cell_type": "code",
      "metadata": {
        "colab": {
          "base_uri": "https://localhost:8080/"
        },
        "id": "Mju6cXXzyp7-",
        "outputId": "133c091e-d3da-48c7-d433-946f92f4fa2b"
      },
      "source": [
        "int(6.5)"
      ],
      "execution_count": null,
      "outputs": [
        {
          "output_type": "execute_result",
          "data": {
            "text/plain": [
              "6"
            ]
          },
          "metadata": {
            "tags": []
          },
          "execution_count": 10
        }
      ]
    },
    {
      "cell_type": "code",
      "metadata": {
        "colab": {
          "base_uri": "https://localhost:8080/",
          "height": 35
        },
        "id": "i9gy9AXsytMI",
        "outputId": "817a0103-2d96-4945-b805-a66919e99e9b"
      },
      "source": [
        "str(5)"
      ],
      "execution_count": null,
      "outputs": [
        {
          "output_type": "execute_result",
          "data": {
            "application/vnd.google.colaboratory.intrinsic+json": {
              "type": "string"
            },
            "text/plain": [
              "'5'"
            ]
          },
          "metadata": {
            "tags": []
          },
          "execution_count": 11
        }
      ]
    },
    {
      "cell_type": "markdown",
      "metadata": {
        "id": "WNK9bTDlyz_P"
      },
      "source": [
        "#Arrendodamento de valores"
      ]
    },
    {
      "cell_type": "code",
      "metadata": {
        "colab": {
          "base_uri": "https://localhost:8080/"
        },
        "id": "s2X-dnNiy5ew",
        "outputId": "f19754f6-b024-45bb-e4de-d0737e9065cb"
      },
      "source": [
        "round(2.898)"
      ],
      "execution_count": null,
      "outputs": [
        {
          "output_type": "execute_result",
          "data": {
            "text/plain": [
              "3"
            ]
          },
          "metadata": {
            "tags": []
          },
          "execution_count": 12
        }
      ]
    },
    {
      "cell_type": "code",
      "metadata": {
        "colab": {
          "base_uri": "https://localhost:8080/"
        },
        "id": "P-hEMJTe1Xav",
        "outputId": "580c6379-033c-4aa1-8c6b-dc19717221c5"
      },
      "source": [
        "round(2.77872819728917982711212,3)"
      ],
      "execution_count": null,
      "outputs": [
        {
          "output_type": "execute_result",
          "data": {
            "text/plain": [
              "2.779"
            ]
          },
          "metadata": {
            "tags": []
          },
          "execution_count": 13
        }
      ]
    },
    {
      "cell_type": "code",
      "metadata": {
        "id": "sTEnxeqS1dnc"
      },
      "source": [
        "var1 = 1\n",
        "var2 = 2 \n",
        "var3 = 3"
      ],
      "execution_count": null,
      "outputs": []
    },
    {
      "cell_type": "code",
      "metadata": {
        "colab": {
          "base_uri": "https://localhost:8080/"
        },
        "id": "0EREidqt1nl3",
        "outputId": "c9695f73-99d4-4858-ec52-5f10b7d63bce"
      },
      "source": [
        "print(var1)"
      ],
      "execution_count": null,
      "outputs": [
        {
          "output_type": "stream",
          "text": [
            "1\n"
          ],
          "name": "stdout"
        }
      ]
    },
    {
      "cell_type": "code",
      "metadata": {
        "colab": {
          "base_uri": "https://localhost:8080/"
        },
        "id": "VgBwJcig1r7o",
        "outputId": "56c6c512-3ea5-4aac-839a-5a6e9cae7435"
      },
      "source": [
        "var1"
      ],
      "execution_count": null,
      "outputs": [
        {
          "output_type": "execute_result",
          "data": {
            "text/plain": [
              "1"
            ]
          },
          "metadata": {
            "tags": []
          },
          "execution_count": 16
        }
      ]
    },
    {
      "cell_type": "code",
      "metadata": {
        "colab": {
          "base_uri": "https://localhost:8080/"
        },
        "id": "qhXuioHB1uIt",
        "outputId": "590f2f0e-aebf-416b-8187-c051495b2b86"
      },
      "source": [
        "var1+var2"
      ],
      "execution_count": null,
      "outputs": [
        {
          "output_type": "execute_result",
          "data": {
            "text/plain": [
              "3"
            ]
          },
          "metadata": {
            "tags": []
          },
          "execution_count": 17
        }
      ]
    },
    {
      "cell_type": "code",
      "metadata": {
        "id": "7pmdF6Tl10-S"
      },
      "source": [
        "var1 = 'Rock Forever'"
      ],
      "execution_count": null,
      "outputs": []
    },
    {
      "cell_type": "code",
      "metadata": {
        "colab": {
          "base_uri": "https://localhost:8080/"
        },
        "id": "-R5uSeYh15hG",
        "outputId": "125950f8-703d-4634-a73e-95ac73be6d46"
      },
      "source": [
        "type (var1)"
      ],
      "execution_count": null,
      "outputs": [
        {
          "output_type": "execute_result",
          "data": {
            "text/plain": [
              "str"
            ]
          },
          "metadata": {
            "tags": []
          },
          "execution_count": 19
        }
      ]
    },
    {
      "cell_type": "code",
      "metadata": {
        "id": "NeMMrvqo18uf"
      },
      "source": [
        "var2 = (6.78)"
      ],
      "execution_count": null,
      "outputs": []
    },
    {
      "cell_type": "code",
      "metadata": {
        "colab": {
          "base_uri": "https://localhost:8080/"
        },
        "id": "sNluHYld2C_x",
        "outputId": "6cabd514-1ee8-4382-bf61-ba1e474e0c4a"
      },
      "source": [
        "type (var2)"
      ],
      "execution_count": null,
      "outputs": [
        {
          "output_type": "execute_result",
          "data": {
            "text/plain": [
              "float"
            ]
          },
          "metadata": {
            "tags": []
          },
          "execution_count": 21
        }
      ]
    },
    {
      "cell_type": "code",
      "metadata": {
        "id": "5nv9wx1D2Hxj"
      },
      "source": [
        "resultado = var2 *10"
      ],
      "execution_count": null,
      "outputs": []
    },
    {
      "cell_type": "code",
      "metadata": {
        "colab": {
          "base_uri": "https://localhost:8080/"
        },
        "id": "2vawx4-s2Mcb",
        "outputId": "b7bf0a3a-2f84-4e5d-d08f-a07735f6b3e9"
      },
      "source": [
        "print(resultado)"
      ],
      "execution_count": null,
      "outputs": [
        {
          "output_type": "stream",
          "text": [
            "67.8\n"
          ],
          "name": "stdout"
        }
      ]
    },
    {
      "cell_type": "code",
      "metadata": {
        "id": "T5Da7XIY2Q6g"
      },
      "source": [
        "resultado = 200/3"
      ],
      "execution_count": null,
      "outputs": []
    },
    {
      "cell_type": "code",
      "metadata": {
        "colab": {
          "base_uri": "https://localhost:8080/"
        },
        "id": "xpYoVFwH2UEY",
        "outputId": "aceea177-1b47-42ea-c520-3250410b0789"
      },
      "source": [
        "resultado"
      ],
      "execution_count": null,
      "outputs": [
        {
          "output_type": "execute_result",
          "data": {
            "text/plain": [
              "66.66666666666667"
            ]
          },
          "metadata": {
            "tags": []
          },
          "execution_count": 25
        }
      ]
    },
    {
      "cell_type": "code",
      "metadata": {
        "id": "LEsk3iml2XMg"
      },
      "source": [
        "variavel_teste = 2"
      ],
      "execution_count": null,
      "outputs": []
    },
    {
      "cell_type": "code",
      "metadata": {
        "id": "P841G1hH2w0K"
      },
      "source": [
        "var1 = 10"
      ],
      "execution_count": null,
      "outputs": []
    },
    {
      "cell_type": "code",
      "metadata": {
        "id": "jmhobuDQ261v"
      },
      "source": [
        "# palavras reservadas não são permitidas: break, if, else, print e etc"
      ],
      "execution_count": null,
      "outputs": []
    },
    {
      "cell_type": "markdown",
      "metadata": {
        "id": "86dkl-vhyvmm"
      },
      "source": [
        "*texto em itálico*## **Trabalhando com \n",
        "\n",
        "---\n",
        "\n",
        "Strings**\n",
        "\n",
        "---\n",
        "\n"
      ]
    },
    {
      "cell_type": "code",
      "metadata": {
        "id": "K-AFpxKsy0j9"
      },
      "source": [
        "frase = 'Python é uma linguagem sensacional'"
      ],
      "execution_count": null,
      "outputs": []
    },
    {
      "cell_type": "code",
      "metadata": {
        "id": "t10iACu7y6Gq",
        "colab": {
          "base_uri": "https://localhost:8080/",
          "height": 35
        },
        "outputId": "15f7539c-799b-41b1-ee65-bdb3d8c35a4d"
      },
      "source": [
        "frase"
      ],
      "execution_count": null,
      "outputs": [
        {
          "output_type": "execute_result",
          "data": {
            "application/vnd.google.colaboratory.intrinsic+json": {
              "type": "string"
            },
            "text/plain": [
              "'Python é uma linguagem sensacional'"
            ]
          },
          "metadata": {
            "tags": []
          },
          "execution_count": 30
        }
      ]
    },
    {
      "cell_type": "code",
      "metadata": {
        "id": "cC38qIppzGN4",
        "colab": {
          "base_uri": "https://localhost:8080/",
          "height": 35
        },
        "outputId": "72b23c92-7602-46f2-f910-264eaf21647b"
      },
      "source": [
        "frase [0]"
      ],
      "execution_count": null,
      "outputs": [
        {
          "output_type": "execute_result",
          "data": {
            "application/vnd.google.colaboratory.intrinsic+json": {
              "type": "string"
            },
            "text/plain": [
              "'P'"
            ]
          },
          "metadata": {
            "tags": []
          },
          "execution_count": 31
        }
      ]
    },
    {
      "cell_type": "code",
      "metadata": {
        "id": "Op6I2vz_zNZS",
        "colab": {
          "base_uri": "https://localhost:8080/",
          "height": 35
        },
        "outputId": "95528696-6bde-4cd9-bcbe-ada532b7d368"
      },
      "source": [
        "frase [0:6]"
      ],
      "execution_count": null,
      "outputs": [
        {
          "output_type": "execute_result",
          "data": {
            "application/vnd.google.colaboratory.intrinsic+json": {
              "type": "string"
            },
            "text/plain": [
              "'Python'"
            ]
          },
          "metadata": {
            "tags": []
          },
          "execution_count": 32
        }
      ]
    },
    {
      "cell_type": "code",
      "metadata": {
        "id": "IaESDErkzaXB",
        "colab": {
          "base_uri": "https://localhost:8080/",
          "height": 35
        },
        "outputId": "c4747350-b9cd-41a8-a933-b679502c7721"
      },
      "source": [
        "frase [6:]"
      ],
      "execution_count": null,
      "outputs": [
        {
          "output_type": "execute_result",
          "data": {
            "application/vnd.google.colaboratory.intrinsic+json": {
              "type": "string"
            },
            "text/plain": [
              "' é uma linguagem sensacional'"
            ]
          },
          "metadata": {
            "tags": []
          },
          "execution_count": 33
        }
      ]
    },
    {
      "cell_type": "code",
      "metadata": {
        "id": "fgwV-WPwzm-v",
        "colab": {
          "base_uri": "https://localhost:8080/",
          "height": 35
        },
        "outputId": "daeda6ce-9459-43e5-8ac8-66ba435dadf7"
      },
      "source": [
        "frase[:6]"
      ],
      "execution_count": null,
      "outputs": [
        {
          "output_type": "execute_result",
          "data": {
            "application/vnd.google.colaboratory.intrinsic+json": {
              "type": "string"
            },
            "text/plain": [
              "'Python'"
            ]
          },
          "metadata": {
            "tags": []
          },
          "execution_count": 34
        }
      ]
    },
    {
      "cell_type": "code",
      "metadata": {
        "id": "yXghNo4izr9G"
      },
      "source": [
        "frase1 = 'Python é uma linguagem sensacional'\n",
        "frase2 = 'para cientista de dados'"
      ],
      "execution_count": null,
      "outputs": []
    },
    {
      "cell_type": "code",
      "metadata": {
        "id": "gjpZcIVxz4Ap"
      },
      "source": [
        "frase3 = frase1 +  frase2"
      ],
      "execution_count": null,
      "outputs": []
    },
    {
      "cell_type": "code",
      "metadata": {
        "id": "YY6gn36Vz-G5",
        "colab": {
          "base_uri": "https://localhost:8080/",
          "height": 35
        },
        "outputId": "25d41bef-2ba7-4deb-91b5-24d0271643cd"
      },
      "source": [
        "frase3"
      ],
      "execution_count": null,
      "outputs": [
        {
          "output_type": "execute_result",
          "data": {
            "application/vnd.google.colaboratory.intrinsic+json": {
              "type": "string"
            },
            "text/plain": [
              "'Python é uma linguagem sensacionalpara cientista de dados'"
            ]
          },
          "metadata": {
            "tags": []
          },
          "execution_count": 37
        }
      ]
    },
    {
      "cell_type": "code",
      "metadata": {
        "id": "rDNV67Q00Oab"
      },
      "source": [
        " frase4 = 'Reinaldo é o rei dos dados dados, dados, e dados'"
      ],
      "execution_count": null,
      "outputs": []
    },
    {
      "cell_type": "code",
      "metadata": {
        "id": "vGTMLXe_0aGt",
        "colab": {
          "base_uri": "https://localhost:8080/"
        },
        "outputId": "739c4714-fffb-438f-8cff-3dedc5444a9c"
      },
      "source": [
        "frase4.count('dados')"
      ],
      "execution_count": null,
      "outputs": [
        {
          "output_type": "execute_result",
          "data": {
            "text/plain": [
              "4"
            ]
          },
          "metadata": {
            "tags": []
          },
          "execution_count": 39
        }
      ]
    },
    {
      "cell_type": "code",
      "metadata": {
        "id": "gm3ElfIO0pVq"
      },
      "source": [
        "# a função lower()"
      ],
      "execution_count": null,
      "outputs": []
    },
    {
      "cell_type": "code",
      "metadata": {
        "id": "sQTytnAP0wkl",
        "colab": {
          "base_uri": "https://localhost:8080/",
          "height": 35
        },
        "outputId": "515de5ae-da6f-40fd-f4d2-42ed1e7aa5be"
      },
      "source": [
        "frase4.lower()"
      ],
      "execution_count": null,
      "outputs": [
        {
          "output_type": "execute_result",
          "data": {
            "application/vnd.google.colaboratory.intrinsic+json": {
              "type": "string"
            },
            "text/plain": [
              "'reinaldo é o rei dos dados dados, dados, e dados'"
            ]
          },
          "metadata": {
            "tags": []
          },
          "execution_count": 41
        }
      ]
    },
    {
      "cell_type": "code",
      "metadata": {
        "id": "klTPiMHh02bC",
        "colab": {
          "base_uri": "https://localhost:8080/",
          "height": 35
        },
        "outputId": "83dee049-cc63-4b48-e481-16a974fea3ce"
      },
      "source": [
        "frase4.upper()"
      ],
      "execution_count": null,
      "outputs": [
        {
          "output_type": "execute_result",
          "data": {
            "application/vnd.google.colaboratory.intrinsic+json": {
              "type": "string"
            },
            "text/plain": [
              "'REINALDO É O REI DOS DADOS DADOS, DADOS, E DADOS'"
            ]
          },
          "metadata": {
            "tags": []
          },
          "execution_count": 42
        }
      ]
    },
    {
      "cell_type": "code",
      "metadata": {
        "id": "lU4Tw4EY02Tv",
        "colab": {
          "base_uri": "https://localhost:8080/",
          "height": 35
        },
        "outputId": "d12cb385-2d6e-4d9b-cf6a-c13ed1e58678"
      },
      "source": [
        "frase4.capitalize()"
      ],
      "execution_count": null,
      "outputs": [
        {
          "output_type": "execute_result",
          "data": {
            "application/vnd.google.colaboratory.intrinsic+json": {
              "type": "string"
            },
            "text/plain": [
              "'Reinaldo é o rei dos dados dados, dados, e dados'"
            ]
          },
          "metadata": {
            "tags": []
          },
          "execution_count": 43
        }
      ]
    },
    {
      "cell_type": "code",
      "metadata": {
        "id": "XmSXzD431CTG",
        "colab": {
          "base_uri": "https://localhost:8080/"
        },
        "outputId": "c1f27b18-a760-4046-a632-47d893dc6e0b"
      },
      "source": [
        "#qubrando a string em uma lista d etermos\n",
        "frase4.split()"
      ],
      "execution_count": null,
      "outputs": [
        {
          "output_type": "execute_result",
          "data": {
            "text/plain": [
              "['Reinaldo', 'é', 'o', 'rei', 'dos', 'dados', 'dados,', 'dados,', 'e', 'dados']"
            ]
          },
          "metadata": {
            "tags": []
          },
          "execution_count": 44
        }
      ]
    },
    {
      "cell_type": "markdown",
      "metadata": {
        "id": "1wAMERYeNlqw"
      },
      "source": [
        "**Trabalhando com listas**"
      ]
    },
    {
      "cell_type": "code",
      "metadata": {
        "id": "YdW5268ANvLN",
        "colab": {
          "base_uri": "https://localhost:8080/"
        },
        "outputId": "e492463d-6db1-4c0f-901d-b0cb0713d7f2"
      },
      "source": [
        "#Sintaxe para criar listas no python\n",
        "bixos = [1,2,3]\n",
        "bixos"
      ],
      "execution_count": null,
      "outputs": [
        {
          "output_type": "execute_result",
          "data": {
            "text/plain": [
              "[1, 2, 3]"
            ]
          },
          "metadata": {
            "tags": []
          },
          "execution_count": 45
        }
      ]
    },
    {
      "cell_type": "code",
      "metadata": {
        "id": "J_X_UHBFOCaI"
      },
      "source": [
        "#listas com tipos de dados diferentes\n",
        "bixos = ['dog','cat', 1223455, 13.9, [0,0,1]]"
      ],
      "execution_count": null,
      "outputs": []
    },
    {
      "cell_type": "code",
      "metadata": {
        "colab": {
          "base_uri": "https://localhost:8080/",
          "height": 35
        },
        "id": "RvuJMy8DOUdw",
        "outputId": "cbaf9d57-b99a-4787-f585-49a9aac4d057"
      },
      "source": [
        "#indice de elementos\n",
        "bixos [0]"
      ],
      "execution_count": null,
      "outputs": [
        {
          "output_type": "execute_result",
          "data": {
            "application/vnd.google.colaboratory.intrinsic+json": {
              "type": "string"
            },
            "text/plain": [
              "'dog'"
            ]
          },
          "metadata": {
            "tags": []
          },
          "execution_count": 47
        }
      ]
    },
    {
      "cell_type": "code",
      "metadata": {
        "id": "e6CqmM7SOr7x"
      },
      "source": [
        "bixos[0] = 'Horse'"
      ],
      "execution_count": null,
      "outputs": []
    },
    {
      "cell_type": "code",
      "metadata": {
        "id": "VVAwAgDaO4oR"
      },
      "source": [
        "#remover elementos\n",
        "bixos.remove ('cat')"
      ],
      "execution_count": null,
      "outputs": []
    },
    {
      "cell_type": "markdown",
      "metadata": {
        "id": "LA6I9bmWPNTO"
      },
      "source": [
        "### Operações em Listas"
      ]
    },
    {
      "cell_type": "code",
      "metadata": {
        "id": "3QHFw2AGPRUM"
      },
      "source": [
        "#Concatenando listas"
      ],
      "execution_count": null,
      "outputs": []
    },
    {
      "cell_type": "code",
      "metadata": {
        "colab": {
          "base_uri": "https://localhost:8080/"
        },
        "id": "lA4xC5yHPTsF",
        "outputId": "99d3b201-4467-425d-ab19-319a47a53350"
      },
      "source": [
        "bixos + [200, 'Minerando', 'dados']"
      ],
      "execution_count": null,
      "outputs": [
        {
          "output_type": "execute_result",
          "data": {
            "text/plain": [
              "['Horse', 1223455, 13.9, [0, 0, 1], 200, 'Minerando', 'dados']"
            ]
          },
          "metadata": {
            "tags": []
          },
          "execution_count": 51
        }
      ]
    },
    {
      "cell_type": "markdown",
      "metadata": {
        "id": "no6htbUzPM_c"
      },
      "source": [
        ""
      ]
    },
    {
      "cell_type": "code",
      "metadata": {
        "id": "rrwjCmn5Pa7b"
      },
      "source": [
        "#Check elementos"
      ],
      "execution_count": null,
      "outputs": []
    },
    {
      "cell_type": "code",
      "metadata": {
        "colab": {
          "base_uri": "https://localhost:8080/"
        },
        "id": "numxxtIWPhAG",
        "outputId": "ba4ef3b7-cb93-4cf6-a99a-903a33961e41"
      },
      "source": [
        "'Minerando' in bixos"
      ],
      "execution_count": null,
      "outputs": [
        {
          "output_type": "execute_result",
          "data": {
            "text/plain": [
              "False"
            ]
          },
          "metadata": {
            "tags": []
          },
          "execution_count": 53
        }
      ]
    },
    {
      "cell_type": "code",
      "metadata": {
        "id": "7ayMf41DP1Hg"
      },
      "source": [
        "lista = [1, 500, 23, 90, 56768]\n",
        "max(lista)"
      ],
      "execution_count": null,
      "outputs": []
    },
    {
      "cell_type": "code",
      "metadata": {
        "id": "jzLW8kK1P9I4"
      },
      "source": [
        "#multiplicação de elementos"
      ],
      "execution_count": null,
      "outputs": []
    },
    {
      "cell_type": "code",
      "metadata": {
        "id": "r-yzkTOKQBFo"
      },
      "source": [
        "['ola'] * 3"
      ],
      "execution_count": null,
      "outputs": []
    },
    {
      "cell_type": "code",
      "metadata": {
        "id": "vQwdl1uEx3II"
      },
      "source": [
        "bixos + [200, 'Minerando', 'dados']"
      ],
      "execution_count": null,
      "outputs": []
    },
    {
      "cell_type": "code",
      "metadata": {
        "id": "syhIRU03yqaD"
      },
      "source": [
        "bixos.append ('snake')\n",
        "#adiciona elementos na lista"
      ],
      "execution_count": null,
      "outputs": []
    },
    {
      "cell_type": "code",
      "metadata": {
        "id": "bgIK-KHbyzBg"
      },
      "source": [
        "bixos"
      ],
      "execution_count": null,
      "outputs": []
    },
    {
      "cell_type": "code",
      "metadata": {
        "id": "FctszVJty_WY"
      },
      "source": [
        "#Extende a lista com mais de um elementos.\n",
        "bixos.extend(['Lion, 10.5'])"
      ],
      "execution_count": null,
      "outputs": []
    },
    {
      "cell_type": "code",
      "metadata": {
        "id": "6QxON82PzKaT"
      },
      "source": [
        "bixos"
      ],
      "execution_count": null,
      "outputs": []
    },
    {
      "cell_type": "code",
      "metadata": {
        "id": "_A5AK8BbzXq-"
      },
      "source": [
        "bixos.index('snake')"
      ],
      "execution_count": null,
      "outputs": []
    },
    {
      "cell_type": "code",
      "metadata": {
        "id": "ANRMSSaGzd4L"
      },
      "source": [
        "bixos.remove('Horse')"
      ],
      "execution_count": null,
      "outputs": []
    },
    {
      "cell_type": "code",
      "metadata": {
        "id": "VyToIYInzi1u"
      },
      "source": [
        "bixos.count('Horse')"
      ],
      "execution_count": null,
      "outputs": []
    },
    {
      "cell_type": "code",
      "metadata": {
        "id": "z1CvXoSMzoBK"
      },
      "source": [
        "bixos.sort()"
      ],
      "execution_count": null,
      "outputs": []
    },
    {
      "cell_type": "code",
      "metadata": {
        "id": "297wUXzSz5nN"
      },
      "source": [
        "#Ordenação de lista de inteiros\n",
        "lista =[1,500,23,90,5678]\n",
        "lista2 = ['casa', 'rio', 'lua','agua'] "
      ],
      "execution_count": null,
      "outputs": []
    },
    {
      "cell_type": "code",
      "metadata": {
        "id": "L1mAA-kI0adE"
      },
      "source": [
        "lista.sort()\n",
        "lista"
      ],
      "execution_count": null,
      "outputs": []
    },
    {
      "cell_type": "code",
      "metadata": {
        "id": "z41Ndcfu0k9X"
      },
      "source": [
        "lista2.sort()\n",
        "lista2"
      ],
      "execution_count": null,
      "outputs": []
    },
    {
      "cell_type": "markdown",
      "metadata": {
        "id": "A1_mKKGh1JPn"
      },
      "source": [
        "###**Lista** **Aninhadas**"
      ]
    },
    {
      "cell_type": "code",
      "metadata": {
        "id": "T0iR7Pzk1SOF"
      },
      "source": [
        "#lista que contém 3 listas\n",
        "listas = [ ['cat', 'dog', 'snake'], ['Audi', 'Ferrari', 'Porsche'], [10,100,200] ]\n",
        "listas"
      ],
      "execution_count": null,
      "outputs": []
    },
    {
      "cell_type": "code",
      "metadata": {
        "id": "NVrBhYXW2FfQ"
      },
      "source": [
        "# Imprimindo o primeiro elemento (lista de animais)\n",
        "listas [0]"
      ],
      "execution_count": null,
      "outputs": []
    },
    {
      "cell_type": "code",
      "metadata": {
        "id": "SOt06Q142ORM"
      },
      "source": [
        "#Imprimindo o segundo elemento (lista de carros)\n",
        "listas [1]"
      ],
      "execution_count": null,
      "outputs": []
    },
    {
      "cell_type": "code",
      "metadata": {
        "id": "XrkDzGyV2XBj"
      },
      "source": [
        "# Imprimindo o terceiro elemento (lista de inteiros)\n",
        "listas [3]"
      ],
      "execution_count": null,
      "outputs": []
    },
    {
      "cell_type": "code",
      "metadata": {
        "id": "ePDlLgqd2d6T"
      },
      "source": [
        "#Imprimindo o 1 carro da lista de carros\n",
        "listas [1][0]"
      ],
      "execution_count": null,
      "outputs": []
    },
    {
      "cell_type": "code",
      "metadata": {
        "id": "ED1pfvYf2pGj"
      },
      "source": [
        "#Imprimir o 2 carro da lista de carros\n",
        "listas [1][1]"
      ],
      "execution_count": null,
      "outputs": []
    },
    {
      "cell_type": "code",
      "metadata": {
        "id": "1PvKuDx52vyj"
      },
      "source": [
        "#Imprimir último valor da lista de números\n",
        "listas [2][2]"
      ],
      "execution_count": null,
      "outputs": []
    },
    {
      "cell_type": "code",
      "metadata": {
        "id": "hqKtdiuW23T2"
      },
      "source": [
        "#repetição de itens em linhas ainhadas\n",
        "listas [0] * 3"
      ],
      "execution_count": null,
      "outputs": []
    },
    {
      "cell_type": "code",
      "metadata": {
        "id": "HzVa2lKl3KSV"
      },
      "source": [
        "listas [2][0] + listas [2][1]"
      ],
      "execution_count": null,
      "outputs": []
    },
    {
      "cell_type": "code",
      "metadata": {
        "id": "KJ0NQfUe8RO_"
      },
      "source": [
        ""
      ],
      "execution_count": null,
      "outputs": []
    },
    {
      "cell_type": "markdown",
      "metadata": {
        "id": "nzuFVf1y8WEI"
      },
      "source": [
        "### Trabalhando com Tuplas"
      ]
    },
    {
      "cell_type": "code",
      "metadata": {
        "colab": {
          "base_uri": "https://localhost:8080/"
        },
        "id": "PQAeiF9e8cmY",
        "outputId": "61434dc7-d41a-4145-f54c-e30f39e5b2c7"
      },
      "source": [
        "#Tuplas usam parênteses como sintaxe\n",
        "Tupla1 = ()\n",
        "Tupla1"
      ],
      "execution_count": null,
      "outputs": [
        {
          "output_type": "execute_result",
          "data": {
            "text/plain": [
              "()"
            ]
          },
          "metadata": {
            "tags": []
          },
          "execution_count": 56
        }
      ]
    },
    {
      "cell_type": "code",
      "metadata": {
        "colab": {
          "base_uri": "https://localhost:8080/"
        },
        "id": "jHbG2DBO8nKN",
        "outputId": "5139fa30-e425-448a-cfbc-6c7462d74b50"
      },
      "source": [
        "tupla1 = ('Ferrari', 'onça', 17.900, 50000)\n",
        "tupla1 "
      ],
      "execution_count": null,
      "outputs": [
        {
          "output_type": "execute_result",
          "data": {
            "text/plain": [
              "('Ferrari', 'onça', 17.9, 50000)"
            ]
          },
          "metadata": {
            "tags": []
          },
          "execution_count": 57
        }
      ]
    },
    {
      "cell_type": "code",
      "metadata": {
        "id": "7X4ERoVM82yA"
      },
      "source": [
        "#Tupla são imuntáveis\n"
      ],
      "execution_count": null,
      "outputs": []
    },
    {
      "cell_type": "code",
      "metadata": {
        "id": "LlceqxKG8-yK"
      },
      "source": [
        "#criação de Tuplas aninhadas\n",
        "Tupla_aninhada = (1,2,3, (23,43,78))"
      ],
      "execution_count": null,
      "outputs": []
    },
    {
      "cell_type": "code",
      "metadata": {
        "colab": {
          "base_uri": "https://localhost:8080/"
        },
        "id": "tTIKIQEu9JgJ",
        "outputId": "9d1578c5-361b-4a78-8cb4-3f0aa95245fd"
      },
      "source": [
        "Tupla_aninhada [3][0]"
      ],
      "execution_count": null,
      "outputs": [
        {
          "output_type": "execute_result",
          "data": {
            "text/plain": [
              "23"
            ]
          },
          "metadata": {
            "tags": []
          },
          "execution_count": 60
        }
      ]
    },
    {
      "cell_type": "code",
      "metadata": {
        "colab": {
          "base_uri": "https://localhost:8080/"
        },
        "id": "dzgo4bbH9SVJ",
        "outputId": "3f8f3493-e7ad-41c5-8ca3-ad15928b7142"
      },
      "source": [
        "#Operação Básica com Tuplas\n",
        "tupla2 = tupla1 *3\n",
        "tupla2"
      ],
      "execution_count": null,
      "outputs": [
        {
          "output_type": "execute_result",
          "data": {
            "text/plain": [
              "('Ferrari',\n",
              " 'onça',\n",
              " 17.9,\n",
              " 50000,\n",
              " 'Ferrari',\n",
              " 'onça',\n",
              " 17.9,\n",
              " 50000,\n",
              " 'Ferrari',\n",
              " 'onça',\n",
              " 17.9,\n",
              " 50000)"
            ]
          },
          "metadata": {
            "tags": []
          },
          "execution_count": 61
        }
      ]
    },
    {
      "cell_type": "code",
      "metadata": {
        "colab": {
          "base_uri": "https://localhost:8080/"
        },
        "id": "I66X9nKg9dZh",
        "outputId": "617dd8bc-0bda-4d67-a1e3-877e7e8159cf"
      },
      "source": [
        "tupla_concatenada = (1,2,3) + (2,31)\n",
        "tupla_concatenada"
      ],
      "execution_count": null,
      "outputs": [
        {
          "output_type": "execute_result",
          "data": {
            "text/plain": [
              "(1, 2, 3, 2, 31)"
            ]
          },
          "metadata": {
            "tags": []
          },
          "execution_count": 62
        }
      ]
    },
    {
      "cell_type": "code",
      "metadata": {
        "id": "F1kY9yHx9nA2",
        "colab": {
          "base_uri": "https://localhost:8080/"
        },
        "outputId": "c1d1083f-1e2c-48fc-c428-74c4a830153c"
      },
      "source": [
        "'elefante' in tupla1"
      ],
      "execution_count": null,
      "outputs": [
        {
          "output_type": "execute_result",
          "data": {
            "text/plain": [
              "False"
            ]
          },
          "metadata": {
            "tags": []
          },
          "execution_count": 63
        }
      ]
    },
    {
      "cell_type": "markdown",
      "metadata": {
        "id": "Rex6CS33X1Hb"
      },
      "source": [
        "## **Slicing**"
      ]
    },
    {
      "cell_type": "code",
      "metadata": {
        "colab": {
          "base_uri": "https://localhost:8080/"
        },
        "id": "lbv7bKGwX6dO",
        "outputId": "5087cc37-6126-4e7c-a7cc-9893fd26ee56"
      },
      "source": [
        "Tupla1[2:0]"
      ],
      "execution_count": null,
      "outputs": [
        {
          "output_type": "execute_result",
          "data": {
            "text/plain": [
              "()"
            ]
          },
          "metadata": {
            "tags": []
          },
          "execution_count": 64
        }
      ]
    },
    {
      "cell_type": "markdown",
      "metadata": {
        "id": "5XIULn6dYYQb"
      },
      "source": [
        "## **Metodos Disponiveis**"
      ]
    },
    {
      "cell_type": "code",
      "metadata": {
        "colab": {
          "base_uri": "https://localhost:8080/"
        },
        "id": "BcF-6w7eYa89",
        "outputId": "bd70b098-5cd9-4771-9cdb-800d3c0d9c37"
      },
      "source": [
        "tupla1.count('onça')\n",
        "#retorna a frequência de um determinado elemento"
      ],
      "execution_count": null,
      "outputs": [
        {
          "output_type": "execute_result",
          "data": {
            "text/plain": [
              "1"
            ]
          },
          "metadata": {
            "tags": []
          },
          "execution_count": 65
        }
      ]
    },
    {
      "cell_type": "code",
      "metadata": {
        "colab": {
          "base_uri": "https://localhost:8080/"
        },
        "id": "3uzvT-bcYlvP",
        "outputId": "9c796ce4-a492-4251-c89b-79de0f65b45b"
      },
      "source": [
        "#retorna a posição do elemento\n",
        "tupla1.index(17.9)"
      ],
      "execution_count": null,
      "outputs": [
        {
          "output_type": "execute_result",
          "data": {
            "text/plain": [
              "2"
            ]
          },
          "metadata": {
            "tags": []
          },
          "execution_count": 67
        }
      ]
    },
    {
      "cell_type": "code",
      "metadata": {
        "colab": {
          "base_uri": "https://localhost:8080/"
        },
        "id": "PU8U3A06YzgR",
        "outputId": "79f7ae0a-dc24-4793-bf11-9d246269b5d6"
      },
      "source": [
        "#retorna o tamanho da tupla\n",
        "len(tupla1)"
      ],
      "execution_count": null,
      "outputs": [
        {
          "output_type": "execute_result",
          "data": {
            "text/plain": [
              "4"
            ]
          },
          "metadata": {
            "tags": []
          },
          "execution_count": 68
        }
      ]
    },
    {
      "cell_type": "code",
      "metadata": {
        "colab": {
          "base_uri": "https://localhost:8080/"
        },
        "id": "nV1A3lU0Y71L",
        "outputId": "9c5d6fcb-baeb-4199-e1b4-b9c3e52c73f2"
      },
      "source": [
        "#retorna o maior valor da tupla\n",
        "tupla2 = (2,3,4,128787,90,0)\n",
        "max(tupla2)"
      ],
      "execution_count": null,
      "outputs": [
        {
          "output_type": "execute_result",
          "data": {
            "text/plain": [
              "128787"
            ]
          },
          "metadata": {
            "tags": []
          },
          "execution_count": 71
        }
      ]
    },
    {
      "cell_type": "code",
      "metadata": {
        "colab": {
          "base_uri": "https://localhost:8080/"
        },
        "id": "q_MZfdkeZG5Y",
        "outputId": "f1069efe-cafa-4a37-f17c-c913e043c592"
      },
      "source": [
        "#retorna o maior valor da tupla\n",
        "min(tupla2)"
      ],
      "execution_count": null,
      "outputs": [
        {
          "output_type": "execute_result",
          "data": {
            "text/plain": [
              "0"
            ]
          },
          "metadata": {
            "tags": []
          },
          "execution_count": 72
        }
      ]
    },
    {
      "cell_type": "code",
      "metadata": {
        "id": "fHgjs9dZZS9y"
      },
      "source": [
        "#criando uma lista\n",
        "lista = (1,2,4,5,6,7,\"mierando dados\", 'data sciente')"
      ],
      "execution_count": null,
      "outputs": []
    },
    {
      "cell_type": "code",
      "metadata": {
        "id": "YX3Jn5-OZes1"
      },
      "source": [
        "#converter uma lista em tupla\n",
        "tupla3=tuple(lista)"
      ],
      "execution_count": null,
      "outputs": []
    },
    {
      "cell_type": "code",
      "metadata": {
        "colab": {
          "base_uri": "https://localhost:8080/"
        },
        "id": "XtChKv-GZqcu",
        "outputId": "eb8199b8-8dc6-4217-be06-4ddfac05b438"
      },
      "source": [
        "type(tupla3)"
      ],
      "execution_count": null,
      "outputs": [
        {
          "output_type": "execute_result",
          "data": {
            "text/plain": [
              "tuple"
            ]
          },
          "metadata": {
            "tags": []
          },
          "execution_count": 77
        }
      ]
    }
  ]
}